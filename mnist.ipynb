{
 "cells": [
  {
   "cell_type": "code",
   "execution_count": 1,
   "metadata": {},
   "outputs": [],
   "source": [
    "import numpy as np\n",
    "import matplotlib.pyplot as pp\n",
    "\n",
    "import tensorflow as tf\n",
    "from keras import layers"
   ]
  },
  {
   "cell_type": "code",
   "execution_count": 2,
   "metadata": {},
   "outputs": [
    {
     "name": "stdout",
     "output_type": "stream",
     "text": [
      "Downloading data from https://storage.googleapis.com/tensorflow/tf-keras-datasets/mnist.npz\n",
      "11490434/11490434 [==============================] - 2s 0us/step\n"
     ]
    }
   ],
   "source": [
    "(x_train, y_train), (x_test, y_test) = tf.keras.datasets.mnist.load_data()"
   ]
  },
  {
   "cell_type": "code",
   "execution_count": 3,
   "metadata": {},
   "outputs": [
    {
     "name": "stdout",
     "output_type": "stream",
     "text": [
      "(28, 28)\n",
      "tf.Tensor(\n",
      "[[0. 0. 0. ... 0. 0. 0.]\n",
      " [1. 0. 0. ... 0. 0. 0.]\n",
      " [0. 0. 0. ... 0. 0. 0.]\n",
      " ...\n",
      " [0. 0. 0. ... 0. 0. 0.]\n",
      " [0. 0. 0. ... 0. 0. 0.]\n",
      " [0. 0. 0. ... 0. 1. 0.]], shape=(60000, 10), dtype=float32)\n"
     ]
    }
   ],
   "source": [
    "x_train = x_train/255\n",
    "print(x_train[1].shape)\n",
    "x_test = x_test/255\n",
    "y_train = tf.one_hot(y_train, 10)\n",
    "y_test = tf.one_hot(y_test, 10)\n",
    "print(y_train)"
   ]
  },
  {
   "cell_type": "code",
   "execution_count": 4,
   "metadata": {},
   "outputs": [
    {
     "data": {
      "text/plain": [
       "<matplotlib.image.AxesImage at 0x1e89883f160>"
      ]
     },
     "execution_count": 4,
     "metadata": {},
     "output_type": "execute_result"
    },
    {
     "data": {
      "image/png": "[encoded data removed]",
      "text/plain": [
       "<Figure size 640x480 with 1 Axes>"
      ]
     },
     "metadata": {},
     "output_type": "display_data"
    }
   ],
   "source": [
    "pp.imshow(x_train[0], cmap='gray')"
   ]
  },
  {
   "cell_type": "code",
   "execution_count": 14,
   "metadata": {},
   "outputs": [
    {
     "name": "stdout",
     "output_type": "stream",
     "text": [
      "Model: \"sequential_2\"\n",
      "_________________________________________________________________\n",
      " Layer (type)                Output Shape              Param #   \n",
      "=================================================================\n",
      " flatten_2 (Flatten)         (None, 784)               0         \n",
      "                                                                 \n",
      " dense_8 (Dense)             (None, 200)               157000    \n",
      "                                                                 \n",
      " dense_9 (Dense)             (None, 200)               40200     \n",
      "                                                                 \n",
      " dense_10 (Dense)            (None, 200)               40200     \n",
      "                                                                 \n",
      " dense_11 (Dense)            (None, 10)                2010      \n",
      "                                                                 \n",
      "=================================================================\n",
      "Total params: 239,410\n",
      "Trainable params: 239,410\n",
      "Non-trainable params: 0\n",
      "_________________________________________________________________\n"
     ]
    }
   ],
   "source": [
    "model = tf.keras.models.Sequential([\n",
    "    layers.Input(x_train.shape[1:]),\n",
    "    layers.Flatten(),\n",
    "    layers.Dense(200, activation='relu'),\n",
    "    layers.Dense(200, activation='relu'),\n",
    "    layers.Dense(200, activation='relu'),\n",
    "    layers.Dense(10, activation='softmax')\n",
    "])\n",
    "model.compile(optimizer=tf.keras.optimizers.Adam(), loss=tf.keras.losses.categorical_crossentropy, metrics=['accuracy'])\n",
    "model.summary()"
   ]
  },
  {
   "cell_type": "code",
   "execution_count": 15,
   "metadata": {},
   "outputs": [
    {
     "name": "stdout",
     "output_type": "stream",
     "text": [
      "Epoch 1/150\n",
      "750/750 [==============================] - 8s 8ms/step - loss: 0.2555 - accuracy: 0.9241 - val_loss: 0.1617 - val_accuracy: 0.9509\n",
      "Epoch 2/150\n",
      "750/750 [==============================] - 5s 7ms/step - loss: 0.1058 - accuracy: 0.9664 - val_loss: 0.0998 - val_accuracy: 0.9699\n",
      "Epoch 3/150\n",
      "750/750 [==============================] - 5s 7ms/step - loss: 0.0697 - accuracy: 0.9783 - val_loss: 0.0871 - val_accuracy: 0.9738\n",
      "Epoch 4/150\n",
      "750/750 [==============================] - 5s 7ms/step - loss: 0.0515 - accuracy: 0.9833 - val_loss: 0.0948 - val_accuracy: 0.9732\n",
      "Epoch 5/150\n",
      "750/750 [==============================] - 6s 8ms/step - loss: 0.0421 - accuracy: 0.9863 - val_loss: 0.0981 - val_accuracy: 0.9725\n",
      "Epoch 6/150\n",
      "750/750 [==============================] - 5s 7ms/step - loss: 0.0327 - accuracy: 0.9892 - val_loss: 0.0881 - val_accuracy: 0.9754\n",
      "Epoch 7/150\n",
      "750/750 [==============================] - 5s 6ms/step - loss: 0.0312 - accuracy: 0.9897 - val_loss: 0.0944 - val_accuracy: 0.9738\n",
      "Epoch 8/150\n",
      "750/750 [==============================] - 5s 6ms/step - loss: 0.0248 - accuracy: 0.9913 - val_loss: 0.1083 - val_accuracy: 0.9737\n",
      "Epoch 9/150\n",
      "750/750 [==============================] - 5s 6ms/step - loss: 0.0231 - accuracy: 0.9925 - val_loss: 0.1040 - val_accuracy: 0.9739\n",
      "Epoch 10/150\n",
      "750/750 [==============================] - 5s 7ms/step - loss: 0.0220 - accuracy: 0.9927 - val_loss: 0.1005 - val_accuracy: 0.9772\n",
      "Epoch 11/150\n",
      "750/750 [==============================] - 7s 9ms/step - loss: 0.0178 - accuracy: 0.9940 - val_loss: 0.1037 - val_accuracy: 0.9747\n",
      "Epoch 12/150\n",
      "750/750 [==============================] - 5s 6ms/step - loss: 0.0168 - accuracy: 0.9944 - val_loss: 0.1312 - val_accuracy: 0.9719\n",
      "Epoch 13/150\n",
      "750/750 [==============================] - 5s 6ms/step - loss: 0.0161 - accuracy: 0.9950 - val_loss: 0.1167 - val_accuracy: 0.9759\n",
      "Epoch 14/150\n",
      "750/750 [==============================] - 5s 7ms/step - loss: 0.0157 - accuracy: 0.9951 - val_loss: 0.1230 - val_accuracy: 0.9748\n",
      "Epoch 15/150\n",
      "750/750 [==============================] - 5s 6ms/step - loss: 0.0103 - accuracy: 0.9970 - val_loss: 0.1032 - val_accuracy: 0.9796\n",
      "Epoch 16/150\n",
      "750/750 [==============================] - 5s 6ms/step - loss: 0.0174 - accuracy: 0.9944 - val_loss: 0.1247 - val_accuracy: 0.9760\n",
      "Epoch 17/150\n",
      "750/750 [==============================] - 4s 6ms/step - loss: 0.0124 - accuracy: 0.9959 - val_loss: 0.1151 - val_accuracy: 0.9768\n",
      "Epoch 18/150\n",
      "750/750 [==============================] - 6s 7ms/step - loss: 0.0109 - accuracy: 0.9970 - val_loss: 0.1200 - val_accuracy: 0.9778\n",
      "Epoch 19/150\n",
      "750/750 [==============================] - 5s 6ms/step - loss: 0.0111 - accuracy: 0.9967 - val_loss: 0.1275 - val_accuracy: 0.9753\n",
      "Epoch 20/150\n",
      "750/750 [==============================] - 5s 7ms/step - loss: 0.0114 - accuracy: 0.9964 - val_loss: 0.1322 - val_accuracy: 0.9766\n",
      "Epoch 21/150\n",
      "750/750 [==============================] - 6s 8ms/step - loss: 0.0115 - accuracy: 0.9966 - val_loss: 0.1239 - val_accuracy: 0.9778\n",
      "Epoch 22/150\n",
      "750/750 [==============================] - 6s 8ms/step - loss: 0.0124 - accuracy: 0.9962 - val_loss: 0.1244 - val_accuracy: 0.9783\n",
      "Epoch 23/150\n",
      "750/750 [==============================] - 5s 7ms/step - loss: 0.0091 - accuracy: 0.9971 - val_loss: 0.1247 - val_accuracy: 0.9778\n",
      "Epoch 24/150\n",
      "750/750 [==============================] - 5s 7ms/step - loss: 0.0097 - accuracy: 0.9970 - val_loss: 0.1370 - val_accuracy: 0.9749\n",
      "Epoch 25/150\n",
      "750/750 [==============================] - 5s 7ms/step - loss: 0.0084 - accuracy: 0.9975 - val_loss: 0.1233 - val_accuracy: 0.9802\n",
      "Epoch 26/150\n",
      "750/750 [==============================] - 7s 9ms/step - loss: 0.0059 - accuracy: 0.9983 - val_loss: 0.1375 - val_accuracy: 0.9774\n",
      "Epoch 27/150\n",
      "750/750 [==============================] - 6s 8ms/step - loss: 0.0103 - accuracy: 0.9971 - val_loss: 0.1253 - val_accuracy: 0.9787\n",
      "Epoch 28/150\n",
      "750/750 [==============================] - 5s 7ms/step - loss: 0.0086 - accuracy: 0.9972 - val_loss: 0.1467 - val_accuracy: 0.9768\n",
      "Epoch 29/150\n",
      "750/750 [==============================] - 7s 10ms/step - loss: 0.0083 - accuracy: 0.9977 - val_loss: 0.1317 - val_accuracy: 0.9775\n",
      "Epoch 30/150\n",
      "750/750 [==============================] - 6s 8ms/step - loss: 0.0057 - accuracy: 0.9982 - val_loss: 0.1701 - val_accuracy: 0.9762\n",
      "Epoch 31/150\n",
      "750/750 [==============================] - 6s 8ms/step - loss: 0.0119 - accuracy: 0.9964 - val_loss: 0.1591 - val_accuracy: 0.9746\n",
      "Epoch 32/150\n",
      "750/750 [==============================] - 7s 10ms/step - loss: 0.0096 - accuracy: 0.9972 - val_loss: 0.1302 - val_accuracy: 0.9778\n",
      "Epoch 33/150\n",
      "750/750 [==============================] - 6s 8ms/step - loss: 0.0064 - accuracy: 0.9982 - val_loss: 0.1227 - val_accuracy: 0.9783\n",
      "Epoch 34/150\n",
      "750/750 [==============================] - 10s 13ms/step - loss: 0.0057 - accuracy: 0.9985 - val_loss: 0.1384 - val_accuracy: 0.9777\n",
      "Epoch 35/150\n",
      "750/750 [==============================] - 7s 10ms/step - loss: 0.0104 - accuracy: 0.9973 - val_loss: 0.1327 - val_accuracy: 0.9790\n",
      "Epoch 36/150\n",
      "750/750 [==============================] - 7s 9ms/step - loss: 0.0051 - accuracy: 0.9985 - val_loss: 0.1578 - val_accuracy: 0.9786\n",
      "Epoch 37/150\n",
      "750/750 [==============================] - 7s 9ms/step - loss: 0.0073 - accuracy: 0.9979 - val_loss: 0.1434 - val_accuracy: 0.9786\n",
      "Epoch 38/150\n",
      "750/750 [==============================] - 7s 10ms/step - loss: 0.0053 - accuracy: 0.9984 - val_loss: 0.1353 - val_accuracy: 0.9810\n",
      "Epoch 39/150\n",
      "750/750 [==============================] - 10s 13ms/step - loss: 0.0046 - accuracy: 0.9986 - val_loss: 0.1483 - val_accuracy: 0.9782\n",
      "Epoch 40/150\n",
      "750/750 [==============================] - 9s 12ms/step - loss: 0.0076 - accuracy: 0.9983 - val_loss: 0.1586 - val_accuracy: 0.9767\n",
      "Epoch 41/150\n",
      "750/750 [==============================] - 8s 10ms/step - loss: 0.0081 - accuracy: 0.9977 - val_loss: 0.1526 - val_accuracy: 0.9797\n",
      "Epoch 42/150\n",
      "750/750 [==============================] - 9s 11ms/step - loss: 0.0042 - accuracy: 0.9989 - val_loss: 0.1402 - val_accuracy: 0.9807\n",
      "Epoch 43/150\n",
      "750/750 [==============================] - 8s 10ms/step - loss: 0.0071 - accuracy: 0.9980 - val_loss: 0.1934 - val_accuracy: 0.9749\n",
      "Epoch 44/150\n",
      "750/750 [==============================] - 7s 10ms/step - loss: 0.0081 - accuracy: 0.9979 - val_loss: 0.1362 - val_accuracy: 0.9806\n",
      "Epoch 45/150\n",
      "750/750 [==============================] - 8s 11ms/step - loss: 0.0034 - accuracy: 0.9992 - val_loss: 0.1466 - val_accuracy: 0.9812\n",
      "Epoch 46/150\n",
      "750/750 [==============================] - 7s 10ms/step - loss: 0.0031 - accuracy: 0.9992 - val_loss: 0.1648 - val_accuracy: 0.9795\n",
      "Epoch 47/150\n",
      "750/750 [==============================] - 7s 10ms/step - loss: 0.0074 - accuracy: 0.9978 - val_loss: 0.1627 - val_accuracy: 0.9782\n",
      "Epoch 48/150\n",
      "750/750 [==============================] - 6s 8ms/step - loss: 0.0071 - accuracy: 0.9983 - val_loss: 0.1509 - val_accuracy: 0.9789\n",
      "Epoch 49/150\n",
      "750/750 [==============================] - 6s 7ms/step - loss: 0.0068 - accuracy: 0.9984 - val_loss: 0.1530 - val_accuracy: 0.9768\n",
      "Epoch 50/150\n",
      "750/750 [==============================] - 5s 7ms/step - loss: 0.0058 - accuracy: 0.9982 - val_loss: 0.1844 - val_accuracy: 0.9759\n",
      "Epoch 51/150\n",
      "750/750 [==============================] - 5s 7ms/step - loss: 0.0055 - accuracy: 0.9985 - val_loss: 0.1853 - val_accuracy: 0.9772\n",
      "Epoch 52/150\n",
      "750/750 [==============================] - 5s 7ms/step - loss: 0.0069 - accuracy: 0.9981 - val_loss: 0.1543 - val_accuracy: 0.9811\n",
      "Epoch 53/150\n",
      "750/750 [==============================] - 5s 7ms/step - loss: 0.0037 - accuracy: 0.9990 - val_loss: 0.1696 - val_accuracy: 0.9779\n",
      "Epoch 54/150\n",
      "750/750 [==============================] - 5s 7ms/step - loss: 0.0058 - accuracy: 0.9988 - val_loss: 0.1563 - val_accuracy: 0.9791\n",
      "Epoch 55/150\n",
      "750/750 [==============================] - 5s 7ms/step - loss: 0.0058 - accuracy: 0.9985 - val_loss: 0.1687 - val_accuracy: 0.9791\n",
      "Epoch 56/150\n",
      "750/750 [==============================] - 6s 7ms/step - loss: 0.0052 - accuracy: 0.9990 - val_loss: 0.1974 - val_accuracy: 0.9763\n",
      "Epoch 57/150\n",
      "750/750 [==============================] - 5s 7ms/step - loss: 0.0059 - accuracy: 0.9986 - val_loss: 0.1919 - val_accuracy: 0.9799\n",
      "Epoch 58/150\n",
      "750/750 [==============================] - 5s 7ms/step - loss: 0.0026 - accuracy: 0.9993 - val_loss: 0.1865 - val_accuracy: 0.9784\n",
      "Epoch 59/150\n",
      "750/750 [==============================] - 5s 7ms/step - loss: 0.0099 - accuracy: 0.9978 - val_loss: 0.1752 - val_accuracy: 0.9776\n",
      "Epoch 60/150\n",
      "750/750 [==============================] - 5s 7ms/step - loss: 0.0054 - accuracy: 0.9986 - val_loss: 0.2132 - val_accuracy: 0.9759\n",
      "Epoch 61/150\n",
      "750/750 [==============================] - 5s 7ms/step - loss: 7.9879e-04 - accuracy: 0.9997 - val_loss: 0.1755 - val_accuracy: 0.9807\n",
      "Epoch 62/150\n",
      "750/750 [==============================] - 5s 7ms/step - loss: 0.0058 - accuracy: 0.9987 - val_loss: 0.1877 - val_accuracy: 0.9760\n",
      "Epoch 63/150\n",
      "750/750 [==============================] - 5s 7ms/step - loss: 0.0086 - accuracy: 0.9980 - val_loss: 0.1574 - val_accuracy: 0.9793\n",
      "Epoch 64/150\n",
      "750/750 [==============================] - 5s 7ms/step - loss: 9.6378e-04 - accuracy: 0.9998 - val_loss: 0.1634 - val_accuracy: 0.9809\n",
      "Epoch 65/150\n",
      "750/750 [==============================] - 5s 7ms/step - loss: 0.0046 - accuracy: 0.9992 - val_loss: 0.2003 - val_accuracy: 0.9750\n",
      "Epoch 66/150\n",
      "750/750 [==============================] - 5s 7ms/step - loss: 0.0102 - accuracy: 0.9975 - val_loss: 0.1617 - val_accuracy: 0.9800\n",
      "Epoch 67/150\n",
      "750/750 [==============================] - 5s 7ms/step - loss: 0.0033 - accuracy: 0.9992 - val_loss: 0.2019 - val_accuracy: 0.9772\n",
      "Epoch 68/150\n",
      "750/750 [==============================] - 7s 10ms/step - loss: 0.0013 - accuracy: 0.9998 - val_loss: 0.1579 - val_accuracy: 0.9812\n",
      "Epoch 69/150\n",
      "750/750 [==============================] - 10s 13ms/step - loss: 0.0038 - accuracy: 0.9991 - val_loss: 0.1913 - val_accuracy: 0.9776\n",
      "Epoch 70/150\n",
      "750/750 [==============================] - 6s 8ms/step - loss: 0.0091 - accuracy: 0.9979 - val_loss: 0.1939 - val_accuracy: 0.9770\n",
      "Epoch 71/150\n",
      "750/750 [==============================] - 6s 8ms/step - loss: 0.0052 - accuracy: 0.9986 - val_loss: 0.1675 - val_accuracy: 0.9782\n",
      "Epoch 72/150\n",
      "750/750 [==============================] - 8s 10ms/step - loss: 0.0089 - accuracy: 0.9983 - val_loss: 0.1907 - val_accuracy: 0.9800\n",
      "Epoch 73/150\n",
      "750/750 [==============================] - 8s 10ms/step - loss: 0.0044 - accuracy: 0.9990 - val_loss: 0.2001 - val_accuracy: 0.9778\n",
      "Epoch 74/150\n",
      "750/750 [==============================] - 6s 8ms/step - loss: 0.0080 - accuracy: 0.9983 - val_loss: 0.2008 - val_accuracy: 0.9790\n",
      "Epoch 75/150\n",
      "750/750 [==============================] - 6s 7ms/step - loss: 0.0020 - accuracy: 0.9995 - val_loss: 0.1912 - val_accuracy: 0.9810\n",
      "Epoch 76/150\n",
      "750/750 [==============================] - 6s 7ms/step - loss: 0.0033 - accuracy: 0.9991 - val_loss: 0.2076 - val_accuracy: 0.9787\n",
      "Epoch 77/150\n",
      "750/750 [==============================] - 5s 7ms/step - loss: 0.0087 - accuracy: 0.9980 - val_loss: 0.1806 - val_accuracy: 0.9793\n",
      "Epoch 78/150\n",
      "750/750 [==============================] - 6s 7ms/step - loss: 0.0037 - accuracy: 0.9990 - val_loss: 0.1707 - val_accuracy: 0.9816\n",
      "Epoch 79/150\n",
      "750/750 [==============================] - 5s 7ms/step - loss: 9.7483e-05 - accuracy: 1.0000 - val_loss: 0.1650 - val_accuracy: 0.9822\n",
      "Epoch 80/150\n",
      "750/750 [==============================] - 5s 7ms/step - loss: 1.0247e-05 - accuracy: 1.0000 - val_loss: 0.1666 - val_accuracy: 0.9822\n",
      "Epoch 81/150\n",
      "750/750 [==============================] - 5s 7ms/step - loss: 5.4157e-06 - accuracy: 1.0000 - val_loss: 0.1687 - val_accuracy: 0.9822\n",
      "Epoch 82/150\n",
      "750/750 [==============================] - 5s 7ms/step - loss: 3.7102e-06 - accuracy: 1.0000 - val_loss: 0.1707 - val_accuracy: 0.9823\n",
      "Epoch 83/150\n",
      "750/750 [==============================] - 6s 7ms/step - loss: 2.6095e-06 - accuracy: 1.0000 - val_loss: 0.1728 - val_accuracy: 0.9824\n",
      "Epoch 84/150\n",
      "750/750 [==============================] - 6s 8ms/step - loss: 1.8233e-06 - accuracy: 1.0000 - val_loss: 0.1750 - val_accuracy: 0.9826\n",
      "Epoch 85/150\n",
      "750/750 [==============================] - 6s 8ms/step - loss: 1.2658e-06 - accuracy: 1.0000 - val_loss: 0.1773 - val_accuracy: 0.9825\n",
      "Epoch 86/150\n",
      "750/750 [==============================] - 5s 7ms/step - loss: 8.8475e-07 - accuracy: 1.0000 - val_loss: 0.1799 - val_accuracy: 0.9826\n",
      "Epoch 87/150\n",
      "750/750 [==============================] - 5s 6ms/step - loss: 6.1797e-07 - accuracy: 1.0000 - val_loss: 0.1825 - val_accuracy: 0.9827\n",
      "Epoch 88/150\n",
      "750/750 [==============================] - 5s 6ms/step - loss: 4.2716e-07 - accuracy: 1.0000 - val_loss: 0.1855 - val_accuracy: 0.9827\n",
      "Epoch 89/150\n",
      "750/750 [==============================] - 5s 6ms/step - loss: 2.9536e-07 - accuracy: 1.0000 - val_loss: 0.1883 - val_accuracy: 0.9829\n",
      "Epoch 90/150\n",
      "750/750 [==============================] - 5s 7ms/step - loss: 2.0422e-07 - accuracy: 1.0000 - val_loss: 0.1913 - val_accuracy: 0.9831\n",
      "Epoch 91/150\n",
      "750/750 [==============================] - 5s 7ms/step - loss: 1.3969e-07 - accuracy: 1.0000 - val_loss: 0.1945 - val_accuracy: 0.9831\n",
      "Epoch 92/150\n",
      "750/750 [==============================] - 7s 9ms/step - loss: 9.5516e-08 - accuracy: 1.0000 - val_loss: 0.1975 - val_accuracy: 0.9831\n",
      "Epoch 93/150\n",
      "750/750 [==============================] - 5s 7ms/step - loss: 6.5344e-08 - accuracy: 1.0000 - val_loss: 0.2008 - val_accuracy: 0.9830\n",
      "Epoch 94/150\n",
      "750/750 [==============================] - 5s 6ms/step - loss: 4.5173e-08 - accuracy: 1.0000 - val_loss: 0.2038 - val_accuracy: 0.9832\n",
      "Epoch 95/150\n",
      "750/750 [==============================] - 5s 7ms/step - loss: 3.1056e-08 - accuracy: 1.0000 - val_loss: 0.2069 - val_accuracy: 0.9833\n",
      "Epoch 96/150\n",
      "750/750 [==============================] - 5s 7ms/step - loss: 2.1495e-08 - accuracy: 1.0000 - val_loss: 0.2100 - val_accuracy: 0.9833\n",
      "Epoch 97/150\n",
      "750/750 [==============================] - 6s 8ms/step - loss: 1.5075e-08 - accuracy: 1.0000 - val_loss: 0.2129 - val_accuracy: 0.9834\n",
      "Epoch 98/150\n",
      "750/750 [==============================] - 5s 7ms/step - loss: 1.0510e-08 - accuracy: 1.0000 - val_loss: 0.2159 - val_accuracy: 0.9833\n",
      "Epoch 99/150\n",
      "750/750 [==============================] - 5s 7ms/step - loss: 7.4555e-09 - accuracy: 1.0000 - val_loss: 0.2187 - val_accuracy: 0.9833\n",
      "Epoch 100/150\n",
      "750/750 [==============================] - 6s 8ms/step - loss: 5.3346e-09 - accuracy: 1.0000 - val_loss: 0.2215 - val_accuracy: 0.9833\n",
      "Epoch 101/150\n",
      "750/750 [==============================] - 6s 8ms/step - loss: 3.8420e-09 - accuracy: 1.0000 - val_loss: 0.2242 - val_accuracy: 0.9834\n",
      "Epoch 102/150\n",
      "750/750 [==============================] - 5s 7ms/step - loss: 2.7865e-09 - accuracy: 1.0000 - val_loss: 0.2266 - val_accuracy: 0.9835\n",
      "Epoch 103/150\n",
      "750/750 [==============================] - 5s 7ms/step - loss: 2.0588e-09 - accuracy: 1.0000 - val_loss: 0.2289 - val_accuracy: 0.9835\n",
      "Epoch 104/150\n",
      "750/750 [==============================] - 5s 7ms/step - loss: 1.5249e-09 - accuracy: 1.0000 - val_loss: 0.2311 - val_accuracy: 0.9835\n",
      "Epoch 105/150\n",
      "750/750 [==============================] - 5s 7ms/step - loss: 1.1598e-09 - accuracy: 1.0000 - val_loss: 0.2332 - val_accuracy: 0.9836\n",
      "Epoch 106/150\n",
      "750/750 [==============================] - 5s 7ms/step - loss: 8.8165e-10 - accuracy: 1.0000 - val_loss: 0.2349 - val_accuracy: 0.9836\n",
      "Epoch 107/150\n",
      "750/750 [==============================] - 5s 7ms/step - loss: 6.5813e-10 - accuracy: 1.0000 - val_loss: 0.2363 - val_accuracy: 0.9836\n",
      "Epoch 108/150\n",
      "750/750 [==============================] - 5s 7ms/step - loss: 5.0664e-10 - accuracy: 1.0000 - val_loss: 0.2377 - val_accuracy: 0.9837\n",
      "Epoch 109/150\n",
      "750/750 [==============================] - 6s 7ms/step - loss: 3.9985e-10 - accuracy: 1.0000 - val_loss: 0.2390 - val_accuracy: 0.9837\n",
      "Epoch 110/150\n",
      "750/750 [==============================] - 5s 7ms/step - loss: 3.2286e-10 - accuracy: 1.0000 - val_loss: 0.2400 - val_accuracy: 0.9837\n",
      "Epoch 111/150\n",
      "750/750 [==============================] - 5s 7ms/step - loss: 2.4587e-10 - accuracy: 1.0000 - val_loss: 0.2410 - val_accuracy: 0.9837\n",
      "Epoch 112/150\n",
      "750/750 [==============================] - 5s 7ms/step - loss: 1.8378e-10 - accuracy: 1.0000 - val_loss: 0.2418 - val_accuracy: 0.9837\n",
      "Epoch 113/150\n",
      "750/750 [==============================] - 6s 7ms/step - loss: 1.4156e-10 - accuracy: 1.0000 - val_loss: 0.2425 - val_accuracy: 0.9837\n",
      "Epoch 114/150\n",
      "750/750 [==============================] - 5s 7ms/step - loss: 1.2418e-10 - accuracy: 1.0000 - val_loss: 0.2431 - val_accuracy: 0.9837\n",
      "Epoch 115/150\n",
      "750/750 [==============================] - 5s 7ms/step - loss: 9.9341e-11 - accuracy: 1.0000 - val_loss: 0.2438 - val_accuracy: 0.9837\n",
      "Epoch 116/150\n",
      "750/750 [==============================] - 5s 7ms/step - loss: 6.4572e-11 - accuracy: 1.0000 - val_loss: 0.2442 - val_accuracy: 0.9836\n",
      "Epoch 117/150\n",
      "750/750 [==============================] - 5s 7ms/step - loss: 4.9671e-11 - accuracy: 1.0000 - val_loss: 0.2446 - val_accuracy: 0.9836\n",
      "Epoch 118/150\n",
      "750/750 [==============================] - 6s 7ms/step - loss: 4.4703e-11 - accuracy: 1.0000 - val_loss: 0.2450 - val_accuracy: 0.9836\n",
      "Epoch 119/150\n",
      "750/750 [==============================] - 5s 7ms/step - loss: 3.2286e-11 - accuracy: 1.0000 - val_loss: 0.2453 - val_accuracy: 0.9836\n",
      "Epoch 120/150\n",
      "750/750 [==============================] - 5s 7ms/step - loss: 2.7319e-11 - accuracy: 1.0000 - val_loss: 0.2455 - val_accuracy: 0.9836\n",
      "Epoch 121/150\n",
      "750/750 [==============================] - 5s 7ms/step - loss: 2.4835e-11 - accuracy: 1.0000 - val_loss: 0.2458 - val_accuracy: 0.9836\n",
      "Epoch 122/150\n",
      "750/750 [==============================] - 5s 7ms/step - loss: 2.2352e-11 - accuracy: 1.0000 - val_loss: 0.2460 - val_accuracy: 0.9836\n",
      "Epoch 123/150\n",
      "750/750 [==============================] - 5s 7ms/step - loss: 1.9868e-11 - accuracy: 1.0000 - val_loss: 0.2463 - val_accuracy: 0.9836\n",
      "Epoch 124/150\n",
      "750/750 [==============================] - 5s 7ms/step - loss: 9.9341e-12 - accuracy: 1.0000 - val_loss: 0.2465 - val_accuracy: 0.9836\n",
      "Epoch 125/150\n",
      "750/750 [==============================] - 6s 7ms/step - loss: 9.9341e-12 - accuracy: 1.0000 - val_loss: 0.2466 - val_accuracy: 0.9836\n",
      "Epoch 126/150\n",
      "750/750 [==============================] - 6s 8ms/step - loss: 9.9341e-12 - accuracy: 1.0000 - val_loss: 0.2469 - val_accuracy: 0.9836\n",
      "Epoch 127/150\n",
      "750/750 [==============================] - 5s 7ms/step - loss: 7.4506e-12 - accuracy: 1.0000 - val_loss: 0.2470 - val_accuracy: 0.9836\n",
      "Epoch 128/150\n",
      "750/750 [==============================] - 5s 7ms/step - loss: 7.4506e-12 - accuracy: 1.0000 - val_loss: 0.2472 - val_accuracy: 0.9836\n",
      "Epoch 129/150\n",
      "750/750 [==============================] - 5s 7ms/step - loss: 7.4506e-12 - accuracy: 1.0000 - val_loss: 0.2474 - val_accuracy: 0.9835\n",
      "Epoch 130/150\n",
      "750/750 [==============================] - 5s 7ms/step - loss: 4.9671e-12 - accuracy: 1.0000 - val_loss: 0.2475 - val_accuracy: 0.9836\n",
      "Epoch 131/150\n",
      "750/750 [==============================] - 5s 7ms/step - loss: 4.9671e-12 - accuracy: 1.0000 - val_loss: 0.2477 - val_accuracy: 0.9836\n",
      "Epoch 132/150\n",
      "750/750 [==============================] - 5s 7ms/step - loss: 4.9671e-12 - accuracy: 1.0000 - val_loss: 0.2478 - val_accuracy: 0.9836\n",
      "Epoch 133/150\n",
      "750/750 [==============================] - 5s 7ms/step - loss: 2.4835e-12 - accuracy: 1.0000 - val_loss: 0.2480 - val_accuracy: 0.9836\n",
      "Epoch 134/150\n",
      "750/750 [==============================] - 5s 7ms/step - loss: 2.4835e-12 - accuracy: 1.0000 - val_loss: 0.2481 - val_accuracy: 0.9836\n",
      "Epoch 135/150\n",
      "750/750 [==============================] - 5s 7ms/step - loss: 4.9671e-12 - accuracy: 1.0000 - val_loss: 0.2483 - val_accuracy: 0.9836\n",
      "Epoch 136/150\n",
      "750/750 [==============================] - 5s 7ms/step - loss: 0.0000e+00 - accuracy: 1.0000 - val_loss: 0.2484 - val_accuracy: 0.9836\n",
      "Epoch 137/150\n",
      "750/750 [==============================] - 5s 7ms/step - loss: 0.0000e+00 - accuracy: 1.0000 - val_loss: 0.2485 - val_accuracy: 0.9837\n",
      "Epoch 138/150\n",
      "750/750 [==============================] - 5s 7ms/step - loss: 0.0000e+00 - accuracy: 1.0000 - val_loss: 0.2486 - val_accuracy: 0.9837\n",
      "Epoch 139/150\n",
      "750/750 [==============================] - 5s 7ms/step - loss: 0.0000e+00 - accuracy: 1.0000 - val_loss: 0.2488 - val_accuracy: 0.9837\n",
      "Epoch 140/150\n",
      "750/750 [==============================] - 5s 7ms/step - loss: 0.0000e+00 - accuracy: 1.0000 - val_loss: 0.2489 - val_accuracy: 0.9837\n",
      "Epoch 141/150\n",
      "750/750 [==============================] - 6s 8ms/step - loss: 0.0000e+00 - accuracy: 1.0000 - val_loss: 0.2490 - val_accuracy: 0.9837\n",
      "Epoch 142/150\n",
      "750/750 [==============================] - 6s 7ms/step - loss: 0.0000e+00 - accuracy: 1.0000 - val_loss: 0.2491 - val_accuracy: 0.9837\n",
      "Epoch 143/150\n",
      "750/750 [==============================] - 5s 7ms/step - loss: 0.0000e+00 - accuracy: 1.0000 - val_loss: 0.2492 - val_accuracy: 0.9837\n",
      "Epoch 144/150\n",
      "750/750 [==============================] - 5s 7ms/step - loss: 0.0000e+00 - accuracy: 1.0000 - val_loss: 0.2494 - val_accuracy: 0.9837\n",
      "Epoch 145/150\n",
      "750/750 [==============================] - 6s 8ms/step - loss: 0.0000e+00 - accuracy: 1.0000 - val_loss: 0.2495 - val_accuracy: 0.9837\n",
      "Epoch 146/150\n",
      "750/750 [==============================] - 7s 9ms/step - loss: 0.0000e+00 - accuracy: 1.0000 - val_loss: 0.2496 - val_accuracy: 0.9837\n",
      "Epoch 147/150\n",
      "750/750 [==============================] - 6s 9ms/step - loss: 0.0000e+00 - accuracy: 1.0000 - val_loss: 0.2497 - val_accuracy: 0.9837\n",
      "Epoch 148/150\n",
      "750/750 [==============================] - 6s 8ms/step - loss: 0.0000e+00 - accuracy: 1.0000 - val_loss: 0.2499 - val_accuracy: 0.9837\n",
      "Epoch 149/150\n",
      "750/750 [==============================] - 6s 7ms/step - loss: 0.0000e+00 - accuracy: 1.0000 - val_loss: 0.2500 - val_accuracy: 0.9837\n",
      "Epoch 150/150\n",
      "750/750 [==============================] - 5s 7ms/step - loss: 0.0000e+00 - accuracy: 1.0000 - val_loss: 0.2501 - val_accuracy: 0.9837\n"
     ]
    },
    {
     "data": {
      "text/plain": [
       "<keras.callbacks.History at 0x1e8bf743c70>"
      ]
     },
     "execution_count": 15,
     "metadata": {},
     "output_type": "execute_result"
    }
   ],
   "source": [
    "model.fit(x_train, y_train, epochs=150, batch_size=64, validation_split=0.2)"
   ]
  },
  {
   "cell_type": "code",
   "execution_count": 16,
   "metadata": {},
   "outputs": [
    {
     "name": "stdout",
     "output_type": "stream",
     "text": [
      "313/313 [==============================] - 1s 4ms/step - loss: 0.2245 - accuracy: 0.9839\n"
     ]
    },
    {
     "data": {
      "text/plain": [
       "[0.22452351450920105, 0.9839000105857849]"
      ]
     },
     "execution_count": 16,
     "metadata": {},
     "output_type": "execute_result"
    }
   ],
   "source": [
    "\n",
    "model.evaluate(x_test, y_test)"
   ]
  },
  {
   "cell_type": "code",
   "execution_count": 8,
   "metadata": {},
   "outputs": [],
   "source": [
    "\n",
    "from PIL import Image, ImageChops\n",
    "import PIL.ImageOps\n",
    "import os"
   ]
  },
  {
   "cell_type": "code",
   "execution_count": 18,
   "metadata": {},
   "outputs": [
    {
     "name": "stdout",
     "output_type": "stream",
     "text": [
      "1/1 [==============================] - 0s 122ms/step\n"
     ]
    },
    {
     "data": {
      "image/png": "[encoded data removed]",
      "text/plain": [
       "<Figure size 640x480 with 1 Axes>"
      ]
     },
     "metadata": {},
     "output_type": "display_data"
    },
    {
     "name": "stdout",
     "output_type": "stream",
     "text": [
      "It's a:  8\n",
      "1/1 [==============================] - 0s 39ms/step\n"
     ]
    },
    {
     "data": {
      "image/png": "[encoded data removed]",
      "text/plain": [
       "<Figure size 640x480 with 1 Axes>"
      ]
     },
     "metadata": {},
     "output_type": "display_data"
    },
    {
     "name": "stdout",
     "output_type": "stream",
     "text": [
      "It's a:  7\n",
      "1/1 [==============================] - 0s 31ms/step\n"
     ]
    },
    {
     "data": {
      "image/png": "[encoded data removed]",
      "text/plain": [
       "<Figure size 640x480 with 1 Axes>"
      ]
     },
     "metadata": {},
     "output_type": "display_data"
    },
    {
     "name": "stdout",
     "output_type": "stream",
     "text": [
      "It's a:  3\n",
      "1/1 [==============================] - 0s 39ms/step\n"
     ]
    },
    {
     "data": {
      "image/png": "[encoded data removed]",
      "text/plain": [
       "<Figure size 640x480 with 1 Axes>"
      ]
     },
     "metadata": {},
     "output_type": "display_data"
    },
    {
     "name": "stdout",
     "output_type": "stream",
     "text": [
      "It's a:  2\n",
      "1/1 [==============================] - 0s 36ms/step\n"
     ]
    },
    {
     "data": {
      "image/png": "[encoded data removed]",
      "text/plain": [
       "<Figure size 640x480 with 1 Axes>"
      ]
     },
     "metadata": {},
     "output_type": "display_data"
    },
    {
     "name": "stdout",
     "output_type": "stream",
     "text": [
      "It's a:  4\n",
      "1/1 [==============================] - 0s 34ms/step\n"
     ]
    },
    {
     "data": {
      "image/png": "[encoded data removed]",
      "text/plain": [
       "<Figure size 640x480 with 1 Axes>"
      ]
     },
     "metadata": {},
     "output_type": "display_data"
    },
    {
     "name": "stdout",
     "output_type": "stream",
     "text": [
      "It's a:  7\n",
      "1/1 [==============================] - 0s 35ms/step\n"
     ]
    },
    {
     "data": {
      "image/png": "[encoded data removed]",
      "text/plain": [
       "<Figure size 640x480 with 1 Axes>"
      ]
     },
     "metadata": {},
     "output_type": "display_data"
    },
    {
     "name": "stdout",
     "output_type": "stream",
     "text": [
      "It's a:  1\n",
      "1/1 [==============================] - 0s 44ms/step\n"
     ]
    },
    {
     "data": {
      "image/png": "[encoded data removed]",
      "text/plain": [
       "<Figure size 640x480 with 1 Axes>"
      ]
     },
     "metadata": {},
     "output_type": "display_data"
    },
    {
     "name": "stdout",
     "output_type": "stream",
     "text": [
      "It's a:  4\n"
     ]
    }
   ],
   "source": [
    "images = []\n",
    "for root, dirs, files in os.walk(os.getcwd()):\n",
    "    for file in files:\n",
    "        # check the extension of files\n",
    "        if file.endswith('.png'):\n",
    "\n",
    "            rgba_image = PIL.Image.open(file)\n",
    "            rgba_image = rgba_image.resize((28, 28))\n",
    "            rgb_image = rgba_image.convert('RGB')\n",
    "            rgb_image = tf.keras.preprocessing.image.img_to_array(rgb_image)\n",
    "            rgb_image = tf.image.rgb_to_grayscale(rgb_image)\n",
    "            rgb_image = tf.squeeze(rgb_image)\n",
    "            #print(rgb_image.shape)\n",
    "            #pp.imshow(rgb_image, cmap='gray')\n",
    "            #pp.show()\n",
    "            images.append(rgb_image)\n",
    "#print(len(images))\n",
    "for i in range(len(images)):\n",
    "    prediction = model.predict(np.array([images[i]]))\n",
    "    pp.imshow(images[i], cmap='gray')\n",
    "    pp.show()\n",
    "    print(\"It's a: \", np.argmax(prediction))\n"
   ]
  },
  {
   "cell_type": "code",
   "execution_count": 17,
   "metadata": {},
   "outputs": [
    {
     "name": "stdout",
     "output_type": "stream",
     "text": [
      "INFO:tensorflow:Assets written to: big_brain3\\assets\n"
     ]
    }
   ],
   "source": [
    "model.save('big_brain3')"
   ]
  },
  {
   "cell_type": "code",
   "execution_count": null,
   "metadata": {},
   "outputs": [],
   "source": []
  }
 ],
 "metadata": {
  "kernelspec": {
   "display_name": "tfgpu",
   "language": "python",
   "name": "python3"
  },
  "language_info": {
   "codemirror_mode": {
    "name": "ipython",
    "version": 3
   },
   "file_extension": ".py",
   "mimetype": "text/x-python",
   "name": "python",
   "nbconvert_exporter": "python",
   "pygments_lexer": "ipython3",
   "version": "3.10.13"
  }
 },
 "nbformat": 4,
 "nbformat_minor": 2
}
